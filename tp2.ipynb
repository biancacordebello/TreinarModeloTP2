{
  "cells": [
    {
      "cell_type": "markdown",
      "metadata": {
        "id": "HTQhJzdDi8wD"
      },
      "source": [
        "## Trabalho Prático 2.\n",
        "Bianca Gusmão Cordebello, Felipe Augusto Vaz Ferreira, Júlia Almeida Costa Regueiro - Tema C"
      ]
    },
    {
      "cell_type": "markdown",
      "metadata": {
        "id": "Sh5__gSxi8wF"
      },
      "source": [
        "## 1. Carregamento do dataset\n",
        "1. Utilização de `from sklearn.datasets import load_breast_cancer` para importar o dataset\n",
        "2. Atribuição do dataset à uma variável `data = load_breast_cancer`\n",
        "3. exibição do dados"
      ]
    },
    {
      "cell_type": "code",
      "execution_count": null,
      "metadata": {
        "colab": {
          "base_uri": "https://localhost:8080/"
        },
        "id": "G3h6YeTii8wF",
        "outputId": "1fb6627b-cf04-4fb0-dd9e-04293a86712c"
      },
      "outputs": [],
      "source": [
        "import pandas as pd\n",
        "from sklearn.linear_model import LinearRegression\n",
        "from sklearn.datasets import load_breast_cancer\n",
        "import numpy as np\n",
        "from sklearn.preprocessing import MinMaxScaler\n",
        "data = load_breast_cancer()\n",
        "data"
      ]
    },
    {
      "cell_type": "markdown",
      "metadata": {
        "id": "b4acJHdpu5nV"
      },
      "source": [
        "## 2. Análise Exploratória Básica\n",
        "### a. Identificação de variáveis dependentes e independentes e o tipo delas\n",
        "\n",
        "**Variáveis independentes:** mean radius, mean texture... \n",
        "\n",
        "**Tipo dado:** float\n",
        "\n",
        "**Tipo variável:** numérica\n",
        "<br><br>\n",
        "\n",
        "**Variáveis dependentes:** target\n",
        "\n",
        "**Tipo dado:** int\n",
        "\n",
        "**Tipo variável:** numérica\n",
        "<br><br>\n",
        "\n",
        "**_Obs:_** Não há nenhuma variável categórica"
      ]
    },
    {
      "cell_type": "code",
      "execution_count": null,
      "metadata": {
        "colab": {
          "base_uri": "https://localhost:8080/"
        },
        "id": "urVsXvA1i8wG",
        "outputId": "bd6075cb-cb1f-409e-e542-1fafc7a7d8d9"
      },
      "outputs": [],
      "source": [
        "df = pd.DataFrame(data.data, columns=data.feature_names)\n",
        "df['target'] = data.target\n",
        "\n",
        "# Separar as variáveis independentes (features)\n",
        "X = df.drop('target', axis=1)\n",
        "\n",
        "# Separar a variável dependente (alvo)\n",
        "y = df['target']\n",
        "\n",
        "#independente\n",
        "print(\"Variáveis independentes: \", X.columns.tolist())\n",
        "\n",
        "#dependente\n",
        "print(\"Variáveis dependentes: \", y.name)"
      ]
    },
    {
      "cell_type": "code",
      "execution_count": null,
      "metadata": {
        "colab": {
          "base_uri": "https://localhost:8080/"
        },
        "id": "wKjtiXGUi8wG",
        "outputId": "a2fb1de6-96a9-4fbd-a236-032858a428cf"
      },
      "outputs": [],
      "source": [
        "X.dtypes"
      ]
    },
    {
      "cell_type": "code",
      "execution_count": null,
      "metadata": {
        "colab": {
          "base_uri": "https://localhost:8080/"
        },
        "id": "P6HySDcwjk6G",
        "outputId": "4c44e195-92cd-4368-ecdf-91f2d2f1b338"
      },
      "outputs": [],
      "source": [
        "y.dtypes"
      ]
    },
    {
      "cell_type": "code",
      "execution_count": null,
      "metadata": {
        "colab": {
          "base_uri": "https://localhost:8080/"
        },
        "id": "Ls-DJYO1i8wH",
        "outputId": "19396fe8-c047-403f-aaec-09e4c94d1ce3"
      },
      "outputs": [],
      "source": [
        "# Selecionar colunas numéricas\n",
        "numeric_cols = df.select_dtypes(include=['int64', 'float64']).columns\n",
        "print(\"Variáveis Numéricas:\")\n",
        "print(numeric_cols)\n",
        "\n",
        "# Selecionar colunas categóricas\n",
        "categorical_cols = df.select_dtypes(include=['object', 'category']).columns\n",
        "print(\"Variáveis Categóricas:\")\n",
        "print(categorical_cols)"
      ]
    },
    {
      "cell_type": "markdown",
      "metadata": {
        "id": "qTQC3iGii8wH"
      },
      "source": [
        "## b. Análise de métricas estatísticas como média, mediana e desvio-padrão das variáveis.\n",
        "Para calcular a média usamos: `df.mean()`<br>\n",
        "Para calcular a mediana usamos: `df.median()`<br>\n",
        "Para calcular o desvio padrão usamos: `df.std()`<br>"
      ]
    },
    {
      "cell_type": "code",
      "execution_count": null,
      "metadata": {
        "colab": {
          "base_uri": "https://localhost:8080/"
        },
        "id": "1tv9A9kNi8wH",
        "outputId": "2cf6937d-298f-4f5b-8234-29c134d374f5"
      },
      "outputs": [],
      "source": [
        "df.mean()"
      ]
    },
    {
      "cell_type": "code",
      "execution_count": null,
      "metadata": {
        "colab": {
          "base_uri": "https://localhost:8080/"
        },
        "id": "ZwbKq4EOi8wH",
        "outputId": "cb0d96c4-b977-443c-ef57-65d9a00e9269"
      },
      "outputs": [],
      "source": [
        "df.median()"
      ]
    },
    {
      "cell_type": "code",
      "execution_count": null,
      "metadata": {
        "colab": {
          "base_uri": "https://localhost:8080/"
        },
        "id": "Hg3cldpqi8wH",
        "outputId": "271e5ee0-53c0-4011-cef1-14ac496f7298"
      },
      "outputs": [],
      "source": [
        "df.std()"
      ]
    },
    {
      "cell_type": "markdown",
      "metadata": {
        "id": "GPKnlumvwCu3"
      },
      "source": [
        "## c. Identificação de Outliers usando IQR\n",
        "\n",
        "### Cálculo dos Quartis e IQR\n",
        "\n",
        "Primeiro, calculamos o primeiro quartil (Q1) e o terceiro quartil (Q3) para cada variável no DataFrame `df`. O intervalo interquartil (IQR) é então calculado como a diferença entre Q3 e Q1:\n",
        "\n",
        "`Q1 = df.quantile(0.25)`<br>\n",
        "``Q3 = df.quantile(0.75)``<br>\n",
        "``IQR = Q3 - Q1``<br>\n",
        "\n",
        "\n",
        "Em seguida, definimos os limites para identificar outliers\n",
        "\n",
        "Os limites inferior e superior para identificar outliers são definidos como 1.5 vezes o IQR abaixo de Q1 e acima de Q3:\n",
        "\n",
        "Logo após, identificamos os outliers. O valor é considerado um outlier se estiver abaixo do limite inferior ou acima do limite superior:\n",
        "`outliers = (df < limite_inferior) | (df > limite_superior)`\n",
        "\n",
        "Por fim, para imprimir a quantidade de outliers em cada variável, removemos a coluna 'target' (variável dependente) \n"
      ]
    },
    {
      "cell_type": "code",
      "execution_count": null,
      "metadata": {
        "colab": {
          "base_uri": "https://localhost:8080/"
        },
        "id": "J5J4d03Ui8wI",
        "outputId": "cce1b420-b176-4e8a-eb03-f999ad1a677a"
      },
      "outputs": [],
      "source": [
        "Q1 = df.quantile(0.25)\n",
        "Q3 = df.quantile(0.75)\n",
        "IQR = Q3 - Q1\n",
        "\n",
        "limite_inferior = Q1 - 1.5 * IQR\n",
        "limite_superior = Q3 + 1.5 * IQR\n",
        "\n",
        "outliers = (df < limite_inferior) | (df > limite_superior)\n",
        "\n",
        "# Contar outliers por variável\n",
        "outliers_count = outliers.drop('target', axis=1).sum()\n",
        "\n",
        "print(\"Número de outliers por variável:\")\n",
        "print(outliers_count)"
      ]
    },
    {
      "cell_type": "markdown",
      "metadata": {
        "id": "U5JUQ76DwSbt"
      },
      "source": [
        "## 3. Pré-processamento\n",
        "*Impressão do **dataset atual** para comparação*\n",
        "\n",
        "Foi escolhido a **normalização** e a **remoção de outliers** "
      ]
    },
    {
      "cell_type": "markdown",
      "metadata": {},
      "source": [
        "- Para a **normalização**:\n",
        "    1. Importamos a classe \"MinMaxScaler\" da biblioteca scikit-learn. (importações no primeiro bloco de código)<br>\n",
        "        `from sklearn.preprocessing import MinMaxScaler`\n",
        "\n",
        "    2. Dimensionamos os dados de modo que todas as características estejam no intervalo [0, 1]<br>\n",
        "        `scaler = MinMaxScaler(feature_range=(0, 1))`\n",
        "\n",
        "    3. Transformamos todos os dados do DataFrame df para um intervalo específico (0 a 1) e criamos um novo DataFrame (dff) com esses dados transformados.<br>\n",
        "        `dff = pd.DataFrame(scaler.fit_transform(df), columns=df.columns)`\n",
        "    \n",
        "    4. Imprimimos para a visualização\n",
        "        `print(dff)`\n",
        "\n"
      ]
    },
    {
      "cell_type": "code",
      "execution_count": null,
      "metadata": {
        "colab": {
          "base_uri": "https://localhost:8080/",
          "height": 478
        },
        "id": "7GqDPrlprY4_",
        "outputId": "4b5ddf7f-4e5a-400e-e571-40370c870d37"
      },
      "outputs": [],
      "source": [
        "df"
      ]
    },
    {
      "cell_type": "code",
      "execution_count": null,
      "metadata": {
        "colab": {
          "base_uri": "https://localhost:8080/"
        },
        "id": "Gaul28HFi8wI",
        "outputId": "e4de6a82-6bce-401f-cc6c-25136c4639c2"
      },
      "outputs": [],
      "source": [
        "scaler = MinMaxScaler(feature_range=(0, 1))\n",
        "dff = pd.DataFrame(scaler.fit_transform(df), columns=df.columns)\n",
        "print(dff)"
      ]
    },
    {
      "cell_type": "markdown",
      "metadata": {
        "id": "SQa1eBZ6wg7r"
      },
      "source": [
        "## Remoção de outliers do dataset normalizado\n",
        "1. Importamos a biblioteca scipy que possui a função \"zscore\"  \n",
        "\n",
        "2. Calculamos o z-score:<br>\n",
        "    `z_scores = np.abs(stats.zscore(dff))`\n",
        "\n",
        "3. Definimos um limiar para considerar outliers:<br>\n",
        "    `threshold = 3`\n",
        "\n",
        "4. Remoção dos outliers e visulização dos dados com e sem: <br>\n",
        "    `df_no_outliers = dff[(z_scores < threshold).all(axis=1)]`<br>\n",
        "    `print(\"Dados Originais:\\n\", df)`<br>\n",
        "    `print(\"\\nDados normalizados sem Outliers (Z-score):\\n\", df_no_outliers)`\n",
        "\n",
        "*Obs: não utilizamos o one-hot-encoding porque ele é normalmente utilizado em variáveis categóricas e o dataset não possui*\n"
      ]
    },
    {
      "cell_type": "code",
      "execution_count": null,
      "metadata": {
        "colab": {
          "base_uri": "https://localhost:8080/"
        },
        "id": "v4HP1aaSi8wI",
        "outputId": "5f310302-47ad-4ac7-f190-5ba80281e17b"
      },
      "outputs": [],
      "source": [
        "from scipy import stats\n",
        "\n",
        "z_scores = np.abs(stats.zscore(dff))\n",
        "\n",
        "threshold = 3\n",
        "\n",
        "df_no_outliers = dff[(z_scores < threshold).all(axis=1)]\n",
        "print(\"Dados Originais:\\n\", df)\n",
        "print(\"\\nDados normalizados sem Outliers (Z-score):\\n\", df_no_outliers)\n"
      ]
    },
    {
      "cell_type": "markdown",
      "metadata": {
        "id": "8K_fbQSVwqpY"
      },
      "source": [
        "#### Dataset Normalizado e sem outliers"
      ]
    },
    {
      "cell_type": "code",
      "execution_count": null,
      "metadata": {
        "colab": {
          "base_uri": "https://localhost:8080/",
          "height": 478
        },
        "id": "oZKzPCqRs1uJ",
        "outputId": "c0b6c15c-fb37-4d21-b90c-3f77bb19b21f"
      },
      "outputs": [],
      "source": [
        "dff2 = pd.DataFrame(df_no_outliers)\n",
        "dff2"
      ]
    },
    {
      "cell_type": "markdown",
      "metadata": {
        "id": "gtqLdKebwyT8"
      },
      "source": [
        "## 4. Amostragem\n",
        "\n",
        "1. Importamos a função \"train_test_split\" da biblioteca sklearn\n",
        "\n",
        "2. Criamos um DataFrame \"X_no_outlier\" removendo a coluna 'target' do DataFrame dff2.\n",
        "    `X_no_outlier = dff2.drop('target', axis=1)`\n",
        "\n",
        "3. Separamos a variável dependente (alvo)\n",
        "    `y_no_outlier = dff2['target']`\n",
        "\n",
        "4. Dividimos os Dados em Conjuntos de Treinamento e Teste:<br>\n",
        "    `X_train, X_test, y_train, y_test = train_test_split(X_no_outlier, y_no_outlier, test_size=0.1, random_state=2024)`<br><br>\n",
        "    **Conjunto de Treinamento:** X_train, y_train;<br>\n",
        "    **Conjunto de Teste:** X_test, y_test;<br>\n",
        "    `test_size=0.1`: Define que 10% dos dados serão utilizados como conjunto de teste, ou seja, os outros 90% serão utilizados como conjunto de treinamento (X_train, y_train).\n"
      ]
    },
    {
      "cell_type": "code",
      "execution_count": null,
      "metadata": {
        "colab": {
          "base_uri": "https://localhost:8080/"
        },
        "id": "DZQealwNi8wI",
        "outputId": "0821719b-aa7a-4432-e2f2-5cc4049a249e"
      },
      "outputs": [],
      "source": [
        "from sklearn.model_selection import train_test_split\n",
        "X_no_outlier = dff2.drop('target', axis=1)\n",
        "\n",
        "y_no_outlier = dff2['target']\n",
        "\n",
        "X_train, X_test, y_train, y_test = train_test_split(X_no_outlier, y_no_outlier, test_size=0.1, random_state=2024)\n",
        "print(f\"O conjunto de treinamento contem {X_train.shape[0]} amostras com {X_train.shape[1]} dimensoes\")\n",
        "print(f\"O conjunto de teste contem {X_test.shape[0]} amostras com {X_test.shape[1]} dimensoes\")"
      ]
    },
    {
      "cell_type": "markdown",
      "metadata": {
        "id": "SmjNWIVRi8wJ"
      },
      "source": [
        "## 5. Modelo de Classificação\n",
        "##### a. Árvore de Decisão\n",
        "1. Importação da Classe DecisionTreeClassifier\n",
        "\n",
        "2. Criamos uma instância do DecisionTreeClassifier, com uma semente.\n",
        "    `classificador = DecisionTreeClassifier(random_state=2024)`\n",
        "\n",
        "3. Logo após treinamos o \"classificador\" utilizando os dados de treinamento. ``classificador.fit(X_train, y_train).``\n",
        "\n",
        "\n"
      ]
    },
    {
      "cell_type": "code",
      "execution_count": null,
      "metadata": {
        "colab": {
          "base_uri": "https://localhost:8080/",
          "height": 75
        },
        "id": "XsS28cDvi8wJ",
        "outputId": "76994db0-4029-48c7-cfb7-78a347bace15"
      },
      "outputs": [],
      "source": [
        "from sklearn.tree import DecisionTreeClassifier\n",
        "\n",
        "classificador = DecisionTreeClassifier(random_state=2024)\n",
        "classificador.fit(X_train, y_train)"
      ]
    },
    {
      "cell_type": "markdown",
      "metadata": {},
      "source": [
        "#### Visualização da árvore"
      ]
    },
    {
      "cell_type": "code",
      "execution_count": null,
      "metadata": {},
      "outputs": [],
      "source": [
        "from sklearn import tree\n",
        "\n",
        "tree.plot_tree(classificador)"
      ]
    },
    {
      "cell_type": "markdown",
      "metadata": {
        "id": "saVZkuFHi8wJ"
      },
      "source": [
        "## 6. Matriz de confusão\n",
        "\n",
        "a. Para os dados de testes\n",
        "\n",
        "1. Importamos a função \"confusion_matrix\" da biblioteca sklearn.\n",
        "\n",
        "2. Utilizamos o modelo treinado (classificador) para prever os rótulos das amostras no conjunto de teste (X_test). E foi atribuído para uma variável \"y_pred\".<br>\n",
        "    `y_pred = classificador.predict(X_test)`\n",
        "\n",
        "3. Utilizamos `matrix = confusion_matrix(y_test, y_pred)` para calcular a matriz de confusão comparando o valor real (y_test) com valor previstos (y_pred).\n",
        "\n",
        "b. A análise nos permitiu observar que ele acertou 43 e errou 7, ou seja, acertou mais que errou.\n",
        "\n"
      ]
    },
    {
      "cell_type": "code",
      "execution_count": null,
      "metadata": {
        "colab": {
          "base_uri": "https://localhost:8080/"
        },
        "id": "NPEdEbBoi8wJ",
        "outputId": "3f977713-30d0-4913-a89c-9f056b2269f1"
      },
      "outputs": [],
      "source": [
        "from sklearn.metrics import confusion_matrix\n",
        "\n",
        "y_pred = classificador.predict(X_test)\n",
        "matrix = confusion_matrix(y_test, y_pred)\n",
        "matrix"
      ]
    },
    {
      "cell_type": "markdown",
      "metadata": {
        "id": "QVPkLumJxDwM"
      },
      "source": [
        "## 7. Métricas de classificação\n",
        "a. \n",
        "1. Importação da função \"classification_report\" da biblioteca sklearn.\n",
        "\n",
        "2. Geração do relatório de classificação utilizando `report = classification_report(y_test, y_pred, target_names=data.target_names, zero_division=0)`, que compara os valores reais (y_test) com os previstos (y_pred)\n",
        "\n",
        "**Análise**: Boas precisões, como por exemplo: 0.93 e 0.87. O recall também tem valores bons. Com isso, podemos considerar o modelo obtido aceitável."
      ]
    },
    {
      "cell_type": "code",
      "execution_count": null,
      "metadata": {
        "colab": {
          "base_uri": "https://localhost:8080/"
        },
        "id": "gZ50Ayqni8wJ",
        "outputId": "ac1ebfe1-db24-444e-e994-75b50f133ee9"
      },
      "outputs": [],
      "source": [
        "from sklearn.metrics import classification_report\n",
        "\n",
        "report = classification_report(y_test, y_pred, target_names=data.target_names, zero_division=0)\n",
        "print(report)\n"
      ]
    }
  ],
  "metadata": {
    "colab": {
      "provenance": []
    },
    "kernelspec": {
      "display_name": "Python 3",
      "language": "python",
      "name": "python3"
    },
    "language_info": {
      "codemirror_mode": {
        "name": "ipython",
        "version": 3
      },
      "file_extension": ".py",
      "mimetype": "text/x-python",
      "name": "python",
      "nbconvert_exporter": "python",
      "pygments_lexer": "ipython3",
      "version": "3.12.3"
    }
  },
  "nbformat": 4,
  "nbformat_minor": 0
}
